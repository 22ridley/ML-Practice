{
 "metadata": {
  "language_info": {
   "codemirror_mode": {
    "name": "ipython",
    "version": 3
   },
   "file_extension": ".py",
   "mimetype": "text/x-python",
   "name": "python",
   "nbconvert_exporter": "python",
   "pygments_lexer": "ipython3",
   "version": "2.7.16"
  },
  "orig_nbformat": 4,
  "kernelspec": {
   "name": "python3",
   "display_name": "Python 2.7.16 64-bit"
  },
  "interpreter": {
   "hash": "767d51c1340bd893661ea55ea3124f6de3c7a262a8b4abca0554b478b1e2ff90"
  }
 },
 "nbformat": 4,
 "nbformat_minor": 2,
 "cells": [
  {
   "source": [
    "import matplotlib.pyplot as plt\n",
    "import numpy as np\n",
    "from sklearn import datasets, linear_model, model_selection"
   ],
   "cell_type": "code",
   "metadata": {},
   "execution_count": 1,
   "outputs": []
  },
  {
   "source": [
    "X, y = datasets.load_diabetes(return_X_y=True)\n",
    "print(X.shape)\n",
    "print(X[0])\n",
    "\n",
    "#the last parameter is which independent variable we are using from the given 10\n",
    "X = X[:, np.newaxis, 2]\n",
    "print(X.shape)\n",
    "#forming the training and testing groups, where 1/3 of the data are used for testing\n",
    "X_train, X_test, y_train, y_test = model_selection.train_test_split(X, y, test_size=0.33)\n",
    "model = linear_model.LinearRegression()\n",
    "#fitting the linear model to the x and y training data\n",
    "model.fit(X_train, y_train)\n",
    "\n",
    "#using the trained linear model to predict y test from x test\n",
    "y_pred = model.predict(X_test)\n",
    "\n",
    "#scatterplot of x test and y test points\n",
    "plt.scatter(X_train, y_train,  color='black')\n",
    "\n",
    "#plots a line with x test and y test points\n",
    "plt.plot(X_test, y_pred, color='blue', linewidth=3)\n",
    "plt.show()\n",
    "\n",
    "# The model (linear formula) was trained on (created with) the training data, and use we the model to predict the y testing data given the x testing data. We scatterplot the testing data and plot a line of the x testing data vs the predicted y testing data. \n",
    "# So, the line we see is not the model, but the line created by the x testing data versus the predicted y testing data. But really, this is really  the same thing because you're still showing y values from every x value, even if the x values in your testing set are different from those in yuor training set because the line spans the entire domain.\n",
    "\n",
    "\n"
   ],
   "cell_type": "code",
   "metadata": {},
   "execution_count": 2,
   "outputs": [
    {
     "output_type": "stream",
     "name": "stdout",
     "text": [
      "(442, 10)\n[ 0.03807591  0.05068012  0.06169621  0.02187235 -0.0442235  -0.03482076\n -0.04340085 -0.00259226  0.01990842 -0.01764613]\n(442, 1)\n"
     ]
    }
   ]
  }
 ]
}