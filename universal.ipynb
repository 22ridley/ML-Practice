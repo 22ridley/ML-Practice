{
 "metadata": {
  "language_info": {
   "codemirror_mode": {
    "name": "ipython",
    "version": 3
   },
   "file_extension": ".py",
   "mimetype": "text/x-python",
   "name": "python",
   "nbconvert_exporter": "python",
   "pygments_lexer": "ipython3",
   "version": "2.7.16"
  },
  "orig_nbformat": 4,
  "kernelspec": {
   "name": "python3",
   "display_name": "Python 2.7.16 64-bit"
  },
  "interpreter": {
   "hash": "767d51c1340bd893661ea55ea3124f6de3c7a262a8b4abca0554b478b1e2ff90"
  }
 },
 "nbformat": 4,
 "nbformat_minor": 2,
 "cells": [
  {
   "cell_type": "code",
   "execution_count": null,
   "metadata": {},
   "outputs": [],
   "source": [
    "from sklearn.preprocessing import LabelEncoder\n",
    "import pandas as pd\n",
    "import matplotlib.pyplot as plt\n",
    "import seaborn as sns\n",
    "import pickle\n",
    "from sklearn.model_selection import train_test_split\n",
    "from sklearn.metrics import accuracy_score, classification_report \n",
    "from sklearn.linear_model import LogisticRegression\n",
    "from sklearn.metrics import confusion_matrix\n",
    "from sklearn.metrics import roc_curve, roc_auc_score\n",
    "\n",
    "reviews = pd.read_csv('data/universal_studio_branches.csv')\n",
    "reviews = reviews[reviews['branch'] == 'Universal Studios Singapore']\n",
    "reviews['written_date'] = reviews['written_date'].str[-4:]\n",
    "#reviews['branch'] = LabelEncoder().fit_transform(reviews['branch'])\n",
    "'''\n",
    "g = sns.PairGrid(reviews)\n",
    "g.map(sns.scatterplot)'''\n",
    "\n",
    "#visualize variables side-by-side with a swarm plot\n",
    "#sns.swarmplot(x=\"written_date\", y=\"rating\", data=reviews)\n",
    "\n",
    "#visualize variables as a violin plot\n",
    "#sns.catplot(x=\"Color\", y=\"Package\", kind=\"violin\", data=reviews)"
   ]
  }
 ]
}